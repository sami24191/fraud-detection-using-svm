{
 "cells": [
  {
   "cell_type": "code",
   "execution_count": 44,
   "metadata": {},
   "outputs": [],
   "source": [
    "import pandas as pd\n",
    "import numpy as np\n",
    "import matplotlib.pyplot as plt\n",
    "#import seaborn\n",
    "# import visualize\n",
    "import scipy.stats as stats\n",
    "# import os, re, fnmatch\n",
    "# import pathlib, itertools\n",
    "import time as timelib\n",
    "\n",
    "\n",
    "## for piprline\n",
    "from sklearn.pipeline import Pipeline\n",
    "from sklearn.base import BaseEstimator, TransformerMixin\n",
    "#from sklearn.impute import SimpleImputer\n",
    "from sklearn.preprocessing import RobustScaler, StandardScaler\n",
    "\n",
    "## for measuring performance\n",
    "from sklearn.model_selection import cross_val_score, cross_val_predict\n",
    "from sklearn.model_selection import train_test_split, GridSearchCV\n",
    "from sklearn.model_selection import learning_curve, StratifiedKFold\n",
    "from sklearn.metrics import make_scorer, precision_recall_curve\n",
    "from sklearn.metrics import confusion_matrix, precision_score\n",
    "from sklearn.metrics import roc_curve, auc, f1_score, recall_score\n",
    "\n",
    "## for model buildig \n",
    "import sklearn\n",
    "from sklearn.svm import SVC\n",
    "from sklearn.externals import joblib\n",
    "import pdb; \n",
    "\n",
    "HOME_DIR = pathlib.Path.home()\n",
    "CW_DIR = pathlib.Path.cwd()\n",
    "\n",
    "## figure/plot size\n",
    "\n",
    "# FIGW = 16\n",
    "# FIGH = 12\n",
    "# FONTSIZE = 6\n",
    "\n",
    "# plt.rcParams['figure.figsize'] = (FIGW, FIGH)\n",
    "# plt.rcParams['font.size'] = FONTSIZE\n",
    "\n",
    "# plt.rcParams['xtick.labelsize'] = FONTSIZE\n",
    "# plt.rcParams['ytick.labelsize'] = FONTSIZE\n",
    "\n",
    "%matplotlib inline"
   ]
  },
  {
   "cell_type": "code",
   "execution_count": 45,
   "metadata": {},
   "outputs": [],
   "source": [
    "# Pipeline component 1\n",
    "class DataFrameSelector(BaseEstimator, TransformerMixin):\n",
    "    def __init__(self, attribs):\n",
    "        self.attribs = attribs\n",
    "    def fit(self, x, y=None):\n",
    "        return self\n",
    "    def transform(self, X):\n",
    "        return X[self.attribs]"
   ]
  },
  {
   "cell_type": "code",
   "execution_count": 46,
   "metadata": {},
   "outputs": [],
   "source": [
    "\"\"\"\n",
    "*** This piece of code has been copied (slightly edited) from a custom module ***\n",
    "\"\"\"\n",
    "import pandas as pd\n",
    "import numpy as np\n",
    "import scipy.stats as stats\n",
    "import matplotlib.pyplot as plt\n",
    "import matplotlib.patheffects as peffects\n",
    "\n",
    "from matplotlib import cm\n",
    "from mpl_toolkits.mplot3d import Axes3D\n",
    "\n",
    "from sklearn.metrics import explained_variance_score, confusion_matrix\n",
    "from sklearn.metrics import roc_curve, precision_recall_curve, auc\n",
    "\n",
    "def skillScore(y_true, y_pred, skill='pss'):\n",
    "    \"\"\"\n",
    "    Compute various skill scores\n",
    "    PARAMS:\n",
    "        y_true: the true classification label\n",
    "        y_pred: the classification predicted by the model (must be binary)\n",
    "        skill: a string used to select a particular skill score to compute\n",
    "                'pss' | 'hss' | 'bss'\n",
    "    \"\"\"\n",
    "    cmtx = confusion_matrix(y_true, y_pred)\n",
    "    tn = cmtx[0,0]\n",
    "    fp = cmtx[0,1]\n",
    "    fn = cmtx[1,0]\n",
    "    tp = cmtx[1,1]\n",
    "\n",
    "    if skill == 'acc': #accuracy\n",
    "        return float(tp + tn) / (tp + fn + tn + fp)\n",
    "    if skill == 'pss':\n",
    "        tpr = float(tp) / (tp + fn)\n",
    "        fpr = float(fp) / (fp + tn)\n",
    "        pss = tpr - fpr\n",
    "        return  [pss, tpr, fpr] \n",
    "    if skill == 'hss': #Heidke\n",
    "        return 2.0 * (tp*tn - fp*fn) / ((tp+fn) * (fn+tn) + (tp+fp) * (fp+tn))\n",
    "    if skill == 'bss': #Brier Skill Score\n",
    "        return np.mean((y_true - y_pred) **2)\n",
    "\n",
    "def plot_confusion_matrix(cm, classes, normalize=False, \n",
    "                          title='Confusion matrix', cmap=plt.cm.Blues):\n",
    "    \"\"\"\n",
    "    This function prints and plots the confusion matrix.\n",
    "    Normalization can be applied by setting `normalize=True`.\n",
    "    PARAMS:\n",
    "        cm: the confusion matrix\n",
    "        classes: list of unique class labels\n",
    "        normalize: boolean flag whether to normalize values\n",
    "        title: figure title\n",
    "        cmap: colormap scheme\n",
    "    \"\"\"\n",
    "    # View percentages\n",
    "    if normalize:\n",
    "        cm = cm.astype('float') / cm.sum(axis=1)[:, np.newaxis]\n",
    "        print(\"Normalized confusion matrix\")\n",
    "    else:\n",
    "        print('Confusion matrix, without normalization')\n",
    "\n",
    "    print(cm)\n",
    "\n",
    "    plt.figure()\n",
    "    plt.imshow(cm, interpolation='nearest', cmap=cmap)\n",
    "    plt.title(title)\n",
    "    plt.colorbar()\n",
    "    tick_marks = np.arange(len(classes))\n",
    "    plt.xticks(tick_marks, classes, rotation=45)\n",
    "    plt.yticks(tick_marks, classes)\n",
    "\n",
    "    fmt = '.2f' if normalize else 'd'\n",
    "    thresh = cm.max() / 2.\n",
    "    for i, j in itertools.product(range(cm.shape[0]), range(cm.shape[1])):\n",
    "        plt.text(j, i, format(cm[i, j], fmt),\n",
    "                 horizontalalignment=\"center\",\n",
    "                 color=\"white\" if cm[i, j] > thresh else \"black\")\n",
    "\n",
    "    plt.ylabel('True label')\n",
    "    plt.xlabel('Predicted label')\n",
    "    plt.tight_layout()\n",
    "    plt.savefig('confusion_mtx', bbox_inches=\"tight\")\n",
    "\n",
    "# Generate a color map plot for a confusion matrix\n",
    "def confusion_mtx_colormap(mtx, xnames, ynames, cbarlabel=\"\"):\n",
    "    ''' \n",
    "    Generate a figure that plots a colormap of a matrix\n",
    "    PARAMS:\n",
    "        mtx: matrix of values\n",
    "        xnames: list of x tick names\n",
    "        ynames: list of the y tick names\n",
    "        cbarlabel: label for the color bar\n",
    "    RETURNS:\n",
    "        fig, ax: the corresponding handles for the figure and axis\n",
    "    '''\n",
    "    nxvars = mtx.shape[1]\n",
    "    nyvars = mtx.shape[0]\n",
    "    \n",
    "    # create the figure and plot the correlation matrix\n",
    "    fig, ax = plt.subplots()\n",
    "    im = ax.imshow(mtx, cmap='GnBu')                                  #color\n",
    "    if not cbarlabel == \"\":\n",
    "        cbar = ax.figure.colorbar(im, ax=ax)\n",
    "        cbar.ax.set_ylabel(cbarlabel, rotation=-90, va=\"bottom\")\n",
    "    \n",
    "    # Specify the row and column ticks and labels for the figure\n",
    "    ax.set_xticks(range(nxvars))\n",
    "    ax.set_yticks(range(nyvars))\n",
    "    ax.set_xticklabels(xnames)\n",
    "    ax.set_yticklabels(ynames)\n",
    "    ax.set_xlabel(\"Predicted Labels\")\n",
    "    ax.set_ylabel(\"Actual Labels\")\n",
    "\n",
    "    # Rotate the tick labels and set their alignment.\n",
    "    plt.setp(ax.get_xticklabels(), rotation=0, \n",
    "             ha=\"right\", rotation_mode=\"anchor\")\n",
    "\n",
    "    # Loop over data dimensions and create text annotations.\n",
    "    lbl = np.array([['TN', 'FP'], ['FN', 'TP']])\n",
    "    for i in range(nyvars):\n",
    "        for j in range(nxvars):\n",
    "            text = ax.text(j, i, \"%s = %d\" % (lbl[i,j], mtx[i, j]),\n",
    "                           ha=\"left\", va=\"bottom\", color=\"k\")\n",
    "            #text.set_path_effects([peffects.withStroke(linewidth=2, \n",
    "            #foreground='w')])\n",
    "\n",
    "    return fig, ax\n",
    "\n",
    "# Compute the ROC and PR Curves and generate the KS plot\n",
    "\n",
    "def ks_roc_prc_plot(targets, scores, FIGWIDTH=15, FIGHEIGHT=6, FONTSIZE=14):\n",
    "\n",
    "    # Compute ROC\n",
    "    fpr, tpr, thresholds = roc_curve(targets, scores)\n",
    "    auc_roc = auc(fpr, tpr)\n",
    "    \n",
    "    # Compute precision-recall AUC\n",
    "    precision, recall, thresholds_prc = precision_recall_curve(targets, scores)\n",
    "    auc_prc = auc(recall, precision)\n",
    "    \n",
    "    roc_results = {'tpr':tpr, 'fpr':fpr, 'thresholds':thresholds, 'auc':auc_roc}\n",
    "    prc_results = {'precision':precision, 'recall':recall, 'thresholds':thresholds_prc, 'auc':auc_prc}\n",
    "    #thresholds = {'roc_thres':thresholds, 'prc_thres':thresholds_prc}\n",
    "    #auc_results = {'roc_auc':auc_roc, 'prc_auc':auc_prc}\n",
    "    \n",
    "    # Compute positve fraction\n",
    "    pos = np.where(targets)[0]\n",
    "    npos = len(pos)\n",
    "    pos_frac = npos / targets.shape[0]\n",
    "\n",
    "    # Generate KS plot\n",
    "    fig, ax = plt.subplots(1, 3, figsize=(FIGWIDTH,FIGHEIGHT))\n",
    "    axs = ax.ravel()\n",
    "    \n",
    "    ax[0].plot(thresholds, tpr, color='b')\n",
    "    ax[0].plot(thresholds, fpr, color='r')\n",
    "    ax[0].plot(thresholds, tpr - fpr, color='g')\n",
    "    ax[0].invert_xaxis()\n",
    "    #ax[0].set_aspect('equal', 'box')\n",
    "    ax[0].set(xlabel='threshold', ylabel='fraction')\n",
    "    ax[0].legend(['TPR', 'FPR', 'K-S Distance'], fontsize=FONTSIZE)\n",
    "    \n",
    "    # Generate ROC Curve plot\n",
    "    ax[1].plot(fpr, tpr, color='b')\n",
    "    ax[1].plot([0,1], [0,1], 'r--')\n",
    "    ax[1].set(xlabel='FPR', ylabel='TPR')\n",
    "    ax[1].set_aspect('equal', 'box')\n",
    "    auc_text = ax[1].text(.05, .95, \"AUC = %.4f\" % auc_roc, \n",
    "                          color=\"k\", fontsize=FONTSIZE)\n",
    "    print(\"ROC AUC:\", auc_roc)\n",
    "    \n",
    "    # Generate precision-recall Curve plot\n",
    "    ax[2].plot(recall, precision, color='b')\n",
    "    ax[2].plot([0,0,1], [1,pos_frac,pos_frac], 'r--')\n",
    "    ax[2].set(xlabel='Recall', ylabel='Precision')\n",
    "    ax[2].set_aspect('equal', 'box')\n",
    "    auc_prc_text = plt.text(.2, .95, \"PR AUC = %.4f\" % auc_prc, \n",
    "                            color=\"k\", fontsize=FONTSIZE)\n",
    "    pos_frac_text = plt.text(.2, .85, \"%.2f %% pos\" % (pos_frac * 100), \n",
    "                             color=\"k\", fontsize=FONTSIZE)\n",
    "    print(\"PRC AUC:\", auc_prc)\n",
    "\n",
    "    return roc_results, prc_results, fig, axs\n"
   ]
  },
  {
   "cell_type": "markdown",
   "metadata": {},
   "source": [
    "# loading data"
   ]
  },
  {
   "cell_type": "code",
   "execution_count": 47,
   "metadata": {},
   "outputs": [],
   "source": [
    "df_1 = pd.read_csv(\"C:\\Work Files\\Spring 2020\\ISE5123 Project\\data\\creditcard.csv\")"
   ]
  },
  {
   "cell_type": "code",
   "execution_count": 49,
   "metadata": {},
   "outputs": [
    {
     "name": "stdout",
     "output_type": "stream",
     "text": [
      "284807 31\n"
     ]
    }
   ],
   "source": [
    "# shape of the dataset\n",
    "nRows, nCols = df_1.shape\n",
    "print(nRows, nCols)"
   ]
  },
  {
   "cell_type": "code",
   "execution_count": 50,
   "metadata": {},
   "outputs": [],
   "source": [
    "# # summarize the class distribution\n",
    "# from collections import Counter\n",
    "\n",
    "# target_a = df_1.values[:,-1]\n",
    "# counter_a = Counter(target_a)\n",
    "# for k,v in counter_a.items():\n",
    "#     per = v / len(target_a) * 100\n",
    "#     print('Class=%d, Count=%d, Percentage=%.3f%%' % (k, v, per))"
   ]
  },
  {
   "cell_type": "code",
   "execution_count": 51,
   "metadata": {},
   "outputs": [
    {
     "data": {
      "text/plain": [
       "((492, 31), (284315, 31))"
      ]
     },
     "execution_count": 51,
     "metadata": {},
     "output_type": "execute_result"
    }
   ],
   "source": [
    "targetnames = ['good', 'fraud']\n",
    "\n",
    "pos = df_1.loc[df_1['Class'] == 1] \n",
    "neg = df_1.loc[df_1['Class'] == 0] \n",
    "\n",
    "pos.shape, neg.shape"
   ]
  },
  {
   "cell_type": "code",
   "execution_count": 52,
   "metadata": {},
   "outputs": [
    {
     "data": {
      "text/plain": [
       "(0.001727485630620034, 0.9982725143693799)"
      ]
     },
     "execution_count": 52,
     "metadata": {},
     "output_type": "execute_result"
    }
   ],
   "source": [
    "# postive and negative fraction\n",
    "pos_fraction = pos.shape[0] / nRows\n",
    "neg_fraction = 1 - pos_fraction\n",
    "\n",
    "pos_fraction, neg_fraction"
   ]
  },
  {
   "cell_type": "code",
   "execution_count": 48,
   "metadata": {},
   "outputs": [
    {
     "data": {
      "image/png": "[encoded data removed]",
      "text/plain": [
       "<Figure size 432x288 with 30 Axes>"
      ]
     },
     "metadata": {
      "needs_background": "light"
     },
     "output_type": "display_data"
    }
   ],
   "source": [
    "df_ex2 = df_1.drop(\"Class\", axis=1)\n",
    "# create a histogram plot of each numeric variable\n",
    "ax = df_ex2.hist(bins=100)\n",
    "# disable axis labels to avoid the clutter\n",
    "for axis in ax.flatten():\n",
    "    axis.set_xticklabels([])\n",
    "    axis.set_yticklabels([])\n",
    "# show the plot\n",
    "plt.show()"
   ]
  },
  {
   "cell_type": "markdown",
   "metadata": {},
   "source": [
    "# data preprocessing"
   ]
  },
  {
   "cell_type": "markdown",
   "metadata": {},
   "source": [
    "#### is there ant missing value in the dataset?"
   ]
  },
  {
   "cell_type": "code",
   "execution_count": 53,
   "metadata": {},
   "outputs": [
    {
     "data": {
      "text/plain": [
       "False"
      ]
     },
     "execution_count": 53,
     "metadata": {},
     "output_type": "execute_result"
    }
   ],
   "source": [
    "np.any(np.isnan(df_1))\n",
    "# df_1.isnull().sum() "
   ]
  },
  {
   "cell_type": "markdown",
   "metadata": {},
   "source": [
    "#### is there any categorical variable? "
   ]
  },
  {
   "cell_type": "code",
   "execution_count": 54,
   "metadata": {
    "scrolled": true
   },
   "outputs": [
    {
     "data": {
      "text/plain": [
       "Time      float64\n",
       "V1        float64\n",
       "V2        float64\n",
       "V3        float64\n",
       "V4        float64\n",
       "V5        float64\n",
       "V6        float64\n",
       "V7        float64\n",
       "V8        float64\n",
       "V9        float64\n",
       "V10       float64\n",
       "V11       float64\n",
       "V12       float64\n",
       "V13       float64\n",
       "V14       float64\n",
       "V15       float64\n",
       "V16       float64\n",
       "V17       float64\n",
       "V18       float64\n",
       "V19       float64\n",
       "V20       float64\n",
       "V21       float64\n",
       "V22       float64\n",
       "V23       float64\n",
       "V24       float64\n",
       "V25       float64\n",
       "V26       float64\n",
       "V27       float64\n",
       "V28       float64\n",
       "Amount    float64\n",
       "Class       int64\n",
       "dtype: object"
      ]
     },
     "execution_count": 54,
     "metadata": {},
     "output_type": "execute_result"
    }
   ],
   "source": [
    "df_1.dtypes"
   ]
  },
  {
   "cell_type": "markdown",
   "metadata": {},
   "source": [
    "#### sepearating features and class "
   ]
  },
  {
   "cell_type": "code",
   "execution_count": 55,
   "metadata": {},
   "outputs": [],
   "source": [
    "features = df_1.columns.drop(['Class'])"
   ]
  },
  {
   "cell_type": "markdown",
   "metadata": {},
   "source": [
    "#### constructing pipeline to pre-process data"
   ]
  },
  {
   "cell_type": "code",
   "execution_count": 56,
   "metadata": {},
   "outputs": [],
   "source": [
    "pipe_X = Pipeline([\n",
    "    (\"selectattributes\", DataFrameSelector(features)),\n",
    "    (\"scaler\", RobustScaler())\n",
    "])\n",
    "\n",
    "pipe_y = Pipeline([\n",
    "    (\"selectattributes\", DataFrameSelector(['Class']))\n",
    "])"
   ]
  },
  {
   "cell_type": "markdown",
   "metadata": {},
   "source": [
    "#### selecting random subset of data: "
   ]
  },
  {
   "cell_type": "code",
   "execution_count": 57,
   "metadata": {},
   "outputs": [
    {
     "data": {
      "text/plain": [
       "(Index(['Time', 'V1', 'V2', 'V3', 'V4', 'V5', 'V6', 'V7', 'V8', 'V9', 'V10',\n",
       "        'V11', 'V12', 'V13', 'V14', 'V15', 'V16', 'V17', 'V18', 'V19', 'V20',\n",
       "        'V21', 'V22', 'V23', 'V24', 'V25', 'V26', 'V27', 'V28', 'Amount',\n",
       "        'Class'],\n",
       "       dtype='object'), (20000, 31))"
      ]
     },
     "execution_count": 57,
     "metadata": {},
     "output_type": "execute_result"
    }
   ],
   "source": [
    "np.random.seed(42)\n",
    "subset_size = 20000\n",
    "selected_indices = np.random.choice(range(nRows), size=subset_size, replace=False)\n",
    "#selected_indices\n",
    "\n",
    "df_1_sub = df_1.loc[selected_indices, :]\n",
    "df_1_sub.columns, df_1_sub.shape"
   ]
  },
  {
   "cell_type": "markdown",
   "metadata": {},
   "source": [
    "#### finally, preprocessing the data (subset) by applying the pipeline "
   ]
  },
  {
   "cell_type": "code",
   "execution_count": 58,
   "metadata": {},
   "outputs": [],
   "source": [
    "\"\"\" TODO\n",
    "Pre-process the data using the pipeliine\n",
    "\"\"\"\n",
    "X = pipe_X.fit_transform(df_1_sub)\n",
    "y = pipe_y.fit_transform(df_1_sub).values.ravel()"
   ]
  },
  {
   "cell_type": "markdown",
   "metadata": {},
   "source": [
    "#### creating train-test split"
   ]
  },
  {
   "cell_type": "code",
   "execution_count": 59,
   "metadata": {},
   "outputs": [],
   "source": [
    "Xtrain, Xtest, ytrain, ytest = train_test_split(X, y, stratify=y, test_size=0.2)"
   ]
  },
  {
   "cell_type": "markdown",
   "metadata": {},
   "source": [
    "# SVM model"
   ]
  },
  {
   "cell_type": "code",
   "execution_count": 60,
   "metadata": {},
   "outputs": [
    {
     "data": {
      "text/plain": [
       "SVC(C=10, cache_size=200, class_weight=None, coef0=0.0,\n",
       "    decision_function_shape='ovr', degree=3, gamma='scale', kernel='rbf',\n",
       "    max_iter=-1, probability=True, random_state=None, shrinking=True, tol=0.001,\n",
       "    verbose=False)"
      ]
     },
     "execution_count": 60,
     "metadata": {},
     "output_type": "execute_result"
    }
   ],
   "source": [
    "# from datetime import datetime\n",
    "# startTime = datetime.now()\n",
    "######################################\n",
    "\n",
    "model = SVC(C=10, gamma='scale', kernel='rbf', probability=True)\n",
    "model.fit(Xtrain, ytrain)\n",
    "\n",
    "######################################\n",
    "# print(\"execution time\", datetime.now() - startTime)"
   ]
  },
  {
   "cell_type": "markdown",
   "metadata": {},
   "source": [
    "#### test set performance"
   ]
  },
  {
   "cell_type": "code",
   "execution_count": 61,
   "metadata": {},
   "outputs": [
    {
     "name": "stdout",
     "output_type": "stream",
     "text": [
      "ROC AUC: 0.9964938642624592\n",
      "PRC AUC: 0.6091085717483233\n",
      "F1 Score 0.2500\n"
     ]
    },
    {
     "data": {
      "image/png": "[encoded data removed]",
      "text/plain": [
       "<Figure size 432x288 with 1 Axes>"
      ]
     },
     "metadata": {
      "needs_background": "light"
     },
     "output_type": "display_data"
    },
    {
     "data": {
      "image/png": "[encoded data removed]",
      "text/plain": [
       "<Figure size 1080x432 with 3 Axes>"
      ]
     },
     "metadata": {
      "needs_background": "light"
     },
     "output_type": "display_data"
    }
   ],
   "source": [
    "# Confusion matrix\n",
    "preds_val = model.predict(Xtest)\n",
    "confusion_mtx_val = confusion_matrix(ytest, preds_val)\n",
    "#metrics_plots.confusion_mtx_colormap(confusion_mtx_val, targetnames, targetnames)\n",
    "confusion_mtx_colormap(confusion_mtx_val, targetnames, targetnames)\n",
    "\n",
    "# Curves\n",
    "scores_val = model.decision_function(Xtest)\n",
    "#metrics_plots.ks_roc_prc_plot(ytest, scores_val)\n",
    "\n",
    "probas_val = model.predict_proba(Xtest)\n",
    "probas_val = probas_val[:,1]\n",
    "roc_prc_res_val  = ks_roc_prc_plot(ytest, probas_val)\n",
    "\n",
    "pss_val = skillScore(ytest, preds_val)\n",
    "f1_val = f1_score(ytest, preds_val)\n",
    "#print(\"PSS: %.4f\" % pss_val[0])\n",
    "print(\"F1 Score %.4f\" % f1_val)"
   ]
  },
  {
   "cell_type": "markdown",
   "metadata": {},
   "source": [
    "# GridsearchCV"
   ]
  },
  {
   "cell_type": "code",
   "execution_count": null,
   "metadata": {},
   "outputs": [],
   "source": []
  },
  {
   "cell_type": "code",
   "execution_count": 62,
   "metadata": {},
   "outputs": [
    {
     "name": "stdout",
     "output_type": "stream",
     "text": [
      "Fitting 5 folds for each of 50 candidates, totalling 250 fits\n"
     ]
    },
    {
     "name": "stderr",
     "output_type": "stream",
     "text": [
      "[Parallel(n_jobs=3)]: Using backend LokyBackend with 3 concurrent workers.\n",
      "[Parallel(n_jobs=3)]: Done  35 tasks      | elapsed:  5.1min\n",
      "[Parallel(n_jobs=3)]: Done 156 tasks      | elapsed: 34.1min\n",
      "[Parallel(n_jobs=3)]: Done 250 out of 250 | elapsed: 59.4min finished\n"
     ]
    },
    {
     "name": "stdout",
     "output_type": "stream",
     "text": [
      "execution time 0:59:26.876676\n"
     ]
    }
   ],
   "source": [
    "from datetime import datetime\n",
    "startTime = datetime.now()\n",
    "\n",
    "######################################\n",
    "\n",
    "# optimized metric\n",
    "opt_metric = 'f1'\n",
    "scoring = {opt_metric:opt_metric}\n",
    "\n",
    "# experiment hyperparameters\n",
    "Cs = [.5, 1, 10, 100, 200]\n",
    "gammas = np.logspace(-4, 0, num=5, endpoint=True, base=5)\n",
    "\n",
    "nCs = len(Cs)\n",
    "ngammas = len(gammas)\n",
    "\n",
    "hyperparams = {'C':Cs, 'gamma':gammas, 'tol':[1e-4],\n",
    "               'class_weight':[None, 'balanced'], \n",
    "               'probability':[True]}\n",
    "\n",
    "# create the GridSearchCV object\n",
    "search = GridSearchCV(model, hyperparams, scoring=scoring, refit=opt_metric,\n",
    "                      cv=5, n_jobs=3, verbose=2, return_train_score=True)\n",
    "# execute the grid search by calling fit using the training data\n",
    "search.fit(Xtrain, ytrain)\n",
    "\n",
    "search\n",
    "\n",
    "######################################\n",
    "\n",
    "print(\"execution time\", datetime.now() - startTime)"
   ]
  },
  {
   "cell_type": "code",
   "execution_count": 60,
   "metadata": {},
   "outputs": [
    {
     "data": {
      "text/plain": [
       "dict"
      ]
     },
     "execution_count": 60,
     "metadata": {},
     "output_type": "execute_result"
    }
   ],
   "source": [
    "all_results = search.cv_results_\n",
    "type(all_results)"
   ]
  },
  {
   "cell_type": "code",
   "execution_count": 61,
   "metadata": {},
   "outputs": [
    {
     "data": {
      "text/plain": [
       "SVC(C=10, cache_size=200, class_weight=None, coef0=0.0,\n",
       "    decision_function_shape='ovr', degree=3, gamma=0.0016, kernel='rbf',\n",
       "    max_iter=-1, probability=True, random_state=None, shrinking=True,\n",
       "    tol=0.0001, verbose=False)"
      ]
     },
     "execution_count": 61,
     "metadata": {},
     "output_type": "execute_result"
    }
   ],
   "source": [
    "search.best_estimator_"
   ]
  },
  {
   "cell_type": "code",
   "execution_count": 62,
   "metadata": {},
   "outputs": [
    {
     "data": {
      "text/plain": [
       "SVC(C=10, cache_size=200, class_weight=None, coef0=0.0,\n",
       "    decision_function_shape='ovr', degree=3, gamma=0.0016, kernel='rbf',\n",
       "    max_iter=-1, probability=True, random_state=None, shrinking=True,\n",
       "    tol=0.0001, verbose=False)"
      ]
     },
     "execution_count": 62,
     "metadata": {},
     "output_type": "execute_result"
    }
   ],
   "source": [
    "best_model = search.best_estimator_\n",
    "best_model.fit(Xtrain, ytrain)"
   ]
  },
  {
   "cell_type": "markdown",
   "metadata": {},
   "source": [
    "### Test Set Performance"
   ]
  },
  {
   "cell_type": "code",
   "execution_count": 64,
   "metadata": {},
   "outputs": [
    {
     "name": "stdout",
     "output_type": "stream",
     "text": [
      "ROC AUC: 0.9938463740116632\n",
      "PRC AUC: 0.740354210649777\n",
      "PSS: 0.8569\n",
      "F1 Score 0.8571\n"
     ]
    },
    {
     "data": {
      "image/png": "[encoded data removed]",
      "text/plain": [
       "<Figure size 432x288 with 1 Axes>"
      ]
     },
     "metadata": {
      "needs_background": "light"
     },
     "output_type": "display_data"
    },
    {
     "data": {
      "image/png": "[encoded data removed]",
      "text/plain": [
       "<Figure size 1080x432 with 3 Axes>"
      ]
     },
     "metadata": {
      "needs_background": "light"
     },
     "output_type": "display_data"
    }
   ],
   "source": [
    "\"\"\" TODO\n",
    "For the best model, display the confusion matrix, KS plot, ROC curve, \n",
    "and PR curve for the test set\n",
    "\"\"\"\n",
    "# TODO: Confustion Matrix\n",
    "preds_test = best_model.predict(Xtest)\n",
    "confusion_mtx_test = confusion_matrix(ytest, preds_test)\n",
    "confusion_mtx_colormap(confusion_mtx_test, targetnames, targetnames)\n",
    "\n",
    "# TODO: Curves\n",
    "scores_test = best_model.decision_function(Xtest)\n",
    "#metrics_plots.ks_roc_prc_plot(ytest, scores_test)\n",
    "\n",
    "proba_test =  best_model.predict_proba(Xtest)\n",
    "proba_test = proba_test[:,1]\n",
    "roc_prc_res_test = ks_roc_prc_plot(ytest, proba_test)\n",
    "\n",
    "pss_res_test = skillScore(ytest, preds_test)\n",
    "f1_res_test = f1_score(ytest, preds_test)\n",
    "print(\"PSS: %.4f\" % pss_res_test[0])\n",
    "print(\"F1 Score %.4f\" % f1_res_test)"
   ]
  },
  {
   "cell_type": "code",
   "execution_count": null,
   "metadata": {},
   "outputs": [],
   "source": []
  }
 ],
 "metadata": {
  "kernelspec": {
   "display_name": "Python 3",
   "language": "python",
   "name": "python3"
  },
  "language_info": {
   "codemirror_mode": {
    "name": "ipython",
    "version": 3
   },
   "file_extension": ".py",
   "mimetype": "text/x-python",
   "name": "python",
   "nbconvert_exporter": "python",
   "pygments_lexer": "ipython3",
   "version": "3.7.4"
  },
  "toc": {
   "base_numbering": 1,
   "nav_menu": {},
   "number_sections": true,
   "sideBar": true,
   "skip_h1_title": false,
   "title_cell": "Table of Contents",
   "title_sidebar": "Contents",
   "toc_cell": false,
   "toc_position": {},
   "toc_section_display": true,
   "toc_window_display": false
  }
 },
 "nbformat": 4,
 "nbformat_minor": 2
}
